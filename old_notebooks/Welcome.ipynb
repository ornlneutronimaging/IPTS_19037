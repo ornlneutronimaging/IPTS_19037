{
 "cells": [
  {
   "cell_type": "markdown",
   "metadata": {
    "run_control": {
     "frozen": false,
     "read_only": false
    }
   },
   "source": [
    "# Description of Notebooks "
   ]
  },
  {
   "cell_type": "markdown",
   "metadata": {
    "run_control": {
     "frozen": false,
     "read_only": false
    }
   },
   "source": [
    "## notebook to split all the images into various folders according to their name"
   ]
  },
  {
   "cell_type": "markdown",
   "metadata": {
    "run_control": {
     "frozen": false,
     "read_only": false
    }
   },
   "source": [
    "This notebook allows to deal (distribute) images from a folder into different folder\n",
    "\n",
    "\n",
    "**INPUT**\n",
    "\n",
    "```\n",
    "image001_000.tif\n",
    "image001_001.tif\n",
    "image001_002.tif\n",
    "   ....\n",
    "image001_100.tif\n",
    "image002_000.tif\n",
    "image002_001.tif\n",
    "image002_002.tif\n",
    "   ....\n",
    "image002_100.tif\n",
    "image003_000.tif\n",
    "image003_001.tif\n",
    "image003_002.tif\n",
    "   ....\n",
    "image003_100.tif\n",
    "...    \n",
    "    \n",
    "    \n",
    "```\n",
    "**OUTPUT**\n",
    "\n",
    "```\n",
    "image001\n",
    "    image000.tif\n",
    "    image001.tif\n",
    "    image002.tif\n",
    "    ...\n",
    "    image100.tif\n",
    "\n",
    "image002\n",
    "    image000.tif\n",
    "    image001.tif\n",
    "    image002.tif\n",
    "    ...\n",
    "    image100.tif\n",
    "\n",
    "image003\n",
    "    image000.tif\n",
    "    image001.tif\n",
    "    image002.tif\n",
    "    ...\n",
    "    image100.tif\n",
    "    \n",
    "```\n",
    "\n"
   ]
  },
  {
   "cell_type": "markdown",
   "metadata": {
    "run_control": {
     "frozen": false,
     "read_only": false
    }
   },
   "source": [
    "**How to launch the notebook** -> [deal_images](deal_images.ipynb)"
   ]
  },
  {
   "cell_type": "code",
   "execution_count": null,
   "metadata": {
    "run_control": {
     "frozen": false,
     "read_only": false
    }
   },
   "outputs": [],
   "source": []
  }
 ],
 "metadata": {
  "anaconda-cloud": {},
  "kernelspec": {
   "display_name": "Python 3",
   "language": "python",
   "name": "python3"
  },
  "language_info": {
   "codemirror_mode": {
    "name": "ipython",
    "version": 3
   },
   "file_extension": ".py",
   "mimetype": "text/x-python",
   "name": "python",
   "nbconvert_exporter": "python",
   "pygments_lexer": "ipython3",
   "version": "3.6.1"
  },
  "toc": {
   "colors": {
    "hover_highlight": "#DAA520",
    "running_highlight": "#FF0000",
    "selected_highlight": "#FFD700"
   },
   "moveMenuLeft": true,
   "nav_menu": {
    "height": "156px",
    "width": "252px"
   },
   "navigate_menu": true,
   "number_sections": true,
   "sideBar": true,
   "threshold": 4,
   "toc_cell": false,
   "toc_section_display": "block",
   "toc_window_display": false
  }
 },
 "nbformat": 4,
 "nbformat_minor": 1
}
