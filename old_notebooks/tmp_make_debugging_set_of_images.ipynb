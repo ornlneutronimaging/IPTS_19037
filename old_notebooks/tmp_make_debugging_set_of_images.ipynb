{
 "cells": [
  {
   "cell_type": "markdown",
   "metadata": {
    "run_control": {
     "frozen": false,
     "read_only": false
    }
   },
   "source": [
    "Temporary notebook just used to prepare a light version of the images to work on, for development purpose only. "
   ]
  },
  {
   "cell_type": "code",
   "execution_count": 17,
   "metadata": {
    "collapsed": true
   },
   "outputs": [],
   "source": [
    "import os\n",
    "import shutil"
   ]
  },
  {
   "cell_type": "code",
   "execution_count": 5,
   "metadata": {
    "collapsed": true
   },
   "outputs": [],
   "source": [
    "data_source_folder = '/Volumes/my_book_thunderbolt_duo/IPTS/DOE_letters/Complete_Raw_Corrected_Data_Set/'\n",
    "ob_source_folder = '/Volumes/my_book_thunderbolt_duo/IPTS/DOE_letters/Complete_Raw_Corrected_OB/'\n",
    "\n",
    "data_target_folder = '/Volumes/my_book_thunderbolt_duo/IPTS/DOE_letters/Debugging/Raw_Corrected_Data_Set/'\n",
    "ob_target_folder = '/Volumes/my_book_thunderbolt_duo/IPTS/DOE_letters/Debugging/Row_Corrected_OB/'"
   ]
  },
  {
   "cell_type": "markdown",
   "metadata": {},
   "source": [
    "Specify how many images we want to keep for each angle"
   ]
  },
  {
   "cell_type": "code",
   "execution_count": 6,
   "metadata": {
    "collapsed": true
   },
   "outputs": [],
   "source": [
    "nbr_images_per_angle_to_keep = 10"
   ]
  },
  {
   "cell_type": "markdown",
   "metadata": {},
   "source": [
    "Retrieve full list of source images"
   ]
  },
  {
   "cell_type": "code",
   "execution_count": 20,
   "metadata": {
    "collapsed": false
   },
   "outputs": [],
   "source": [
    "full_list_of_images = [os.path.basename(_file) for _file in glob.glob(os.path.join(data_source_folder, '*.fits'))]\n",
    "short_list_of_images = [os.path.basename(_file) for _file in full_list_of_images]\n",
    "image_list = list(set([_file.split('_')[0] for _file in short_list_of_images]))\n",
    "\n",
    "full_list_of_ob_images = [os.path.basename(_file) for _file in glob.glob(os.path.join(ob_source_folder, '*.fits'))]\n",
    "short_list_of_ob_images = [os.path.basename(_file) for _file in full_list_of_ob_images]\n",
    "image_ob_list = list(set([_file.split('_')[0] for _file in short_list_of_ob_images]))"
   ]
  },
  {
   "cell_type": "markdown",
   "metadata": {},
   "source": [
    "Define list of images and OB to keep"
   ]
  },
  {
   "cell_type": "code",
   "execution_count": 24,
   "metadata": {
    "collapsed": false
   },
   "outputs": [],
   "source": [
    "list_images_to_keep = {}\n",
    "for _key in image_list:\n",
    "    _list_images = []\n",
    "    for _index in np.arange(nbr_images_per_angle_to_keep):\n",
    "        _ext = \"_{:05d}.fits\".format(_index)\n",
    "        _file_name = _key + _ext\n",
    "        _list_images.append(_file_name)\n",
    "    list_images_to_keep[_key] = _list_images\n",
    "    \n",
    "list_ob_to_keep = {}\n",
    "for _key in image_ob_list:\n",
    "    _list_ob = []\n",
    "    for _index in np.arange(nbr_images_per_angle_to_keep):\n",
    "        _ext = \"_{:05d}.fits\".format(_index)\n",
    "        _file_name = _key + _ext\n",
    "        _list_ob.append(_file_name)\n",
    "    list_ob_to_keep[_key] = _list_ob"
   ]
  },
  {
   "cell_type": "markdown",
   "metadata": {},
   "source": [
    "copy list_images_to_keep to debugging directory"
   ]
  },
  {
   "cell_type": "code",
   "execution_count": 26,
   "metadata": {
    "collapsed": false
   },
   "outputs": [],
   "source": [
    "# data\n",
    "for _key in list_images_to_keep:\n",
    "    for _image in list_images_to_keep[_key]:\n",
    "        src_image = os.path.join(data_source_folder, _image)\n",
    "        dst_image = os.path.join(data_target_folder, _image)\n",
    "        shutil.copyfile( src_image, dst_image)\n",
    "        \n",
    "# ob\n",
    "for _key in list_ob_to_keep:\n",
    "    for _image in list_ob_to_keep[_key]:\n",
    "        src_image = os.path.join(ob_source_folder, _image)\n",
    "        dst_image = os.path.join(ob_target_folder, _image)\n",
    "        shutil.copyfile( src_image, dst_image)\n",
    "        "
   ]
  },
  {
   "cell_type": "code",
   "execution_count": null,
   "metadata": {
    "collapsed": true
   },
   "outputs": [],
   "source": []
  }
 ],
 "metadata": {
  "anaconda-cloud": {},
  "kernelspec": {
   "display_name": "Python [conda env:py35]",
   "language": "python",
   "name": "conda-env-py35-py"
  },
  "language_info": {
   "codemirror_mode": {
    "name": "ipython",
    "version": 3
   },
   "file_extension": ".py",
   "mimetype": "text/x-python",
   "name": "python",
   "nbconvert_exporter": "python",
   "pygments_lexer": "ipython3",
   "version": "3.5.3"
  },
  "toc": {
   "colors": {
    "hover_highlight": "#DAA520",
    "running_highlight": "#FF0000",
    "selected_highlight": "#FFD700"
   },
   "moveMenuLeft": true,
   "nav_menu": {
    "height": "12px",
    "width": "252px"
   },
   "navigate_menu": true,
   "number_sections": true,
   "sideBar": true,
   "threshold": 4,
   "toc_cell": false,
   "toc_section_display": "block",
   "toc_window_display": false
  }
 },
 "nbformat": 4,
 "nbformat_minor": 0
}
